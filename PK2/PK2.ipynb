{
 "cells": [
  {
   "cell_type": "code",
   "execution_count": 1,
   "id": "bcbe4dcb",
   "metadata": {},
   "outputs": [],
   "source": [
    "# Data loading and preprocessing\n",
    "import pandas as pd\n",
    "from sklearn.model_selection import train_test_split"
   ]
  },
  {
   "cell_type": "code",
   "execution_count": 2,
   "id": "92ceb0e8",
   "metadata": {},
   "outputs": [],
   "source": [
    "# Download Data\n",
    "df = pd.read_csv('WELFake_Dataset.csv')\n",
    "\n",
    "# Select required columns and remove missing values\n",
    "df = df[['text', 'label']].dropna()\n",
    "\n",
    "# Split the data into training set and test set\n",
    "X_train, X_test, y_train, y_test = train_test_split(df['text'], df['label'], test_size=0.2, random_state=42)"
   ]
  },
  {
   "cell_type": "code",
   "execution_count": 3,
   "id": "52198896",
   "metadata": {},
   "outputs": [],
   "source": [
    "# Text vectorization\n",
    "from sklearn.feature_extraction.text import CountVectorizer, TfidfVectorizer\n",
    "\n",
    "# CountVectorizer vectorization\n",
    "count_vectorizer = CountVectorizer(stop_words='english')\n",
    "X_train_counts = count_vectorizer.fit_transform(X_train)\n",
    "X_test_counts = count_vectorizer.transform(X_test)\n",
    "\n",
    "# TfidfVectorizer vectorization\n",
    "tfidf_vectorizer = TfidfVectorizer(stop_words='english')\n",
    "X_train_tfidf = tfidf_vectorizer.fit_transform(X_train)\n",
    "X_test_tfidf = tfidf_vectorizer.transform(X_test)"
   ]
  },
  {
   "cell_type": "code",
   "execution_count": 4,
   "id": "ad211e1c",
   "metadata": {},
   "outputs": [],
   "source": [
    "# Train and evaluate classification models\n",
    "from sklearn.linear_model import LogisticRegression\n",
    "from sklearn.ensemble import GradientBoostingClassifier\n",
    "from sklearn.metrics import accuracy_score, classification_report"
   ]
  },
  {
   "cell_type": "code",
   "execution_count": 5,
   "id": "83700a11",
   "metadata": {},
   "outputs": [
    {
     "name": "stdout",
     "output_type": "stream",
     "text": [
      "Using CountVectorizer and LogisticRegression\n",
      "Accuracy: 0.9525625910257299\n",
      "              precision    recall  f1-score   support\n",
      "\n",
      "           0       0.96      0.94      0.95      7010\n",
      "           1       0.95      0.96      0.95      7409\n",
      "\n",
      "    accuracy                           0.95     14419\n",
      "   macro avg       0.95      0.95      0.95     14419\n",
      "weighted avg       0.95      0.95      0.95     14419\n",
      "\n"
     ]
    }
   ],
   "source": [
    "# Using CountVectorizer and LogisticRegression\n",
    "log_reg_count = LogisticRegression(max_iter=1000)\n",
    "log_reg_count.fit(X_train_counts, y_train)\n",
    "y_pred_count_lr = log_reg_count.predict(X_test_counts)\n",
    "print(\"Using CountVectorizer and LogisticRegression\")\n",
    "print(\"Accuracy:\", accuracy_score(y_test, y_pred_count_lr))\n",
    "print(classification_report(y_test, y_pred_count_lr))"
   ]
  },
  {
   "cell_type": "code",
   "execution_count": 6,
   "id": "e65b0cc8",
   "metadata": {},
   "outputs": [
    {
     "name": "stdout",
     "output_type": "stream",
     "text": [
      " UsingTfidfVectorizer and LogisticRegression\n",
      "Accuracy: 0.9401484152853873\n",
      "              precision    recall  f1-score   support\n",
      "\n",
      "           0       0.94      0.93      0.94      7010\n",
      "           1       0.94      0.95      0.94      7409\n",
      "\n",
      "    accuracy                           0.94     14419\n",
      "   macro avg       0.94      0.94      0.94     14419\n",
      "weighted avg       0.94      0.94      0.94     14419\n",
      "\n"
     ]
    }
   ],
   "source": [
    "# Using TfidfVectorizer and LogisticRegression\n",
    "log_reg_tfidf = LogisticRegression(max_iter=1000)\n",
    "log_reg_tfidf.fit(X_train_tfidf, y_train)\n",
    "y_pred_tfidf_lr = log_reg_tfidf.predict(X_test_tfidf)\n",
    "print(\" UsingTfidfVectorizer and LogisticRegression\")\n",
    "print(\"Accuracy:\", accuracy_score(y_test, y_pred_tfidf_lr))\n",
    "print(classification_report(y_test, y_pred_tfidf_lr))"
   ]
  },
  {
   "cell_type": "code",
   "execution_count": 7,
   "id": "851b4e3d",
   "metadata": {},
   "outputs": [
    {
     "name": "stdout",
     "output_type": "stream",
     "text": [
      " Using CountVectorizer and GradientBoostingClassifier\n",
      "Accuracy: 0.9185102989111589\n",
      "              precision    recall  f1-score   support\n",
      "\n",
      "           0       0.95      0.88      0.91      7010\n",
      "           1       0.89      0.95      0.92      7409\n",
      "\n",
      "    accuracy                           0.92     14419\n",
      "   macro avg       0.92      0.92      0.92     14419\n",
      "weighted avg       0.92      0.92      0.92     14419\n",
      "\n"
     ]
    }
   ],
   "source": [
    "# Using CountVectorizer and GradientBoostingClassifier\n",
    "gb_count = GradientBoostingClassifier()\n",
    "gb_count.fit(X_train_counts, y_train)\n",
    "y_pred_count_gb = gb_count.predict(X_test_counts)\n",
    "print(\" Using CountVectorizer and GradientBoostingClassifier\")\n",
    "print(\"Accuracy:\", accuracy_score(y_test, y_pred_count_gb))\n",
    "print(classification_report(y_test, y_pred_count_gb))"
   ]
  },
  {
   "cell_type": "code",
   "execution_count": 8,
   "id": "324c1765",
   "metadata": {},
   "outputs": [
    {
     "name": "stdout",
     "output_type": "stream",
     "text": [
      " Using TfidfVectorizer and GradientBoostingClassifier\n",
      "Accuracy: 0.9194812400305153\n",
      "              precision    recall  f1-score   support\n",
      "\n",
      "           0       0.95      0.88      0.91      7010\n",
      "           1       0.90      0.95      0.92      7409\n",
      "\n",
      "    accuracy                           0.92     14419\n",
      "   macro avg       0.92      0.92      0.92     14419\n",
      "weighted avg       0.92      0.92      0.92     14419\n",
      "\n"
     ]
    }
   ],
   "source": [
    "# Using TfidfVectorizer and GradientBoostingClassifier\n",
    "gb_tfidf = GradientBoostingClassifier()\n",
    "gb_tfidf.fit(X_train_tfidf, y_train)\n",
    "y_pred_tfidf_gb = gb_tfidf.predict(X_test_tfidf)\n",
    "print(\" Using TfidfVectorizer and GradientBoostingClassifier\")\n",
    "print(\"Accuracy:\", accuracy_score(y_test, y_pred_tfidf_gb))\n",
    "print(classification_report(y_test, y_pred_tfidf_gb))"
   ]
  },
  {
   "cell_type": "code",
   "execution_count": null,
   "id": "4dc5e8b6",
   "metadata": {},
   "outputs": [],
   "source": []
  }
 ],
 "metadata": {
  "kernelspec": {
   "display_name": "Python 3 (ipykernel)",
   "language": "python",
   "name": "python3"
  },
  "language_info": {
   "codemirror_mode": {
    "name": "ipython",
    "version": 3
   },
   "file_extension": ".py",
   "mimetype": "text/x-python",
   "name": "python",
   "nbconvert_exporter": "python",
   "pygments_lexer": "ipython3",
   "version": "3.10.9"
  }
 },
 "nbformat": 4,
 "nbformat_minor": 5
}
